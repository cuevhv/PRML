{
 "cells": [
  {
   "cell_type": "markdown",
   "metadata": {},
   "source": [
    "# 1.1 Example polynomial curve Fitting"
   ]
  },
  {
   "cell_type": "markdown",
   "metadata": {},
   "source": [
    "We have a dataset $d(\\mathbf{x},\\mathbf{t})$ with inputs $\\mathbf{x}=\\mathit{(x_1,x_2,...,x_3)^T}$ and observations $\\mathbf{t}=\\mathit{(t_1,t_2,...,t_3)^T}$. We want to find a relation between $\\mathbf{x}$ and $\\mathbf{t}$ to make predictions $\\hat{y}$ of a new input variable $\\hat{x}$.\n",
    "We will take as example the a dataset sampled from a $sin(2\\pi x)$ function adding some gaussian noise $v \\sim \\mathcal{N(\\mu, \\sigma^2)}$."
   ]
  },
  {
   "cell_type": "code",
   "execution_count": 3,
   "metadata": {},
   "outputs": [],
   "source": [
    "import numpy as np"
   ]
  },
  {
   "cell_type": "code",
   "execution_count": null,
   "metadata": {},
   "outputs": [],
   "source": []
  }
 ],
 "metadata": {
  "kernelspec": {
   "display_name": "Python 2",
   "language": "python",
   "name": "python2"
  },
  "language_info": {
   "codemirror_mode": {
    "name": "ipython",
    "version": 2
   },
   "file_extension": ".py",
   "mimetype": "text/x-python",
   "name": "python",
   "nbconvert_exporter": "python",
   "pygments_lexer": "ipython2",
   "version": "2.7.15+"
  }
 },
 "nbformat": 4,
 "nbformat_minor": 2
}
