{
 "cells": [
  {
   "cell_type": "markdown",
   "metadata": {},
   "source": [
    "# 1.1 Example polynomial curve Fitting"
   ]
  },
  {
   "cell_type": "markdown",
   "metadata": {},
   "source": [
    "We have a dataset $d(\\mathbf{x},\\mathbf{t})$ with inputs $\\mathbf{x}=\\mathit{(x_1,x_2,...,x_3)^T}$ and observations $\\mathbf{t}=\\mathit{(t_1,t_2,...,t_3)^T}$. We want to find a relation between $\\mathbf{x}$ and $\\mathbf{t}$ to make predictions $\\hat{y}$ of a new input variable $\\hat{x}$.\n",
    "We will take as example the a dataset sampled from a $sin(2\\pi x)$ function adding some gaussian noise $v\\sim\\mathcal{N(\\mu,\\sigma^2)}$."
   ]
  },
  {
   "cell_type": "code",
   "execution_count": 1683,
   "metadata": {},
   "outputs": [],
   "source": [
    "import numpy as np\n",
    "import numpy as np\n",
    "import matplotlib.pyplot as plt\n",
    "%matplotlib inline"
   ]
  },
  {
   "cell_type": "markdown",
   "metadata": {},
   "source": [
    "$sin(2\\pi x)$ formula"
   ]
  },
  {
   "cell_type": "code",
   "execution_count": 1684,
   "metadata": {},
   "outputs": [],
   "source": [
    "time = np.arange(0,1,0.01)\n",
    "amplitude = np.sin(2*np.pi*time)"
   ]
  },
  {
   "cell_type": "markdown",
   "metadata": {},
   "source": [
    "Sampling 10 values from $sin(2\\pi x)$ with gaussian noise $v\\sim\\mathcal{N(0,0.01)}$."
   ]
  },
  {
   "cell_type": "code",
   "execution_count": 1685,
   "metadata": {},
   "outputs": [],
   "source": [
    "np.random.seed(353)\n",
    "x_0 = np.random.choice(time, 10) #sample without noise\n",
    "t = np.sin(2*np.pi*x_0)\n",
    "v = np.random.randn(10)*np.sqrt(0.01) #random noise\n",
    "t = t+v #noisy sample"
   ]
  },
  {
   "cell_type": "markdown",
   "metadata": {},
   "source": [
    "Plotting sample"
   ]
  },
  {
   "cell_type": "code",
   "execution_count": 1686,
   "metadata": {},
   "outputs": [
    {
     "data": {
      "text/plain": [
       "[<matplotlib.lines.Line2D at 0x7f990c6cec90>]"
      ]
     },
     "execution_count": 1686,
     "metadata": {},
     "output_type": "execute_result"
    },
    {
     "data": {
      "image/png": "[encoded data removed]",
      "text/plain": [
       "<Figure size 432x288 with 1 Axes>"
      ]
     },
     "metadata": {
      "needs_background": "light"
     },
     "output_type": "display_data"
    }
   ],
   "source": [
    "plt.xlabel('time')\n",
    "plt.ylabel('amplitude')\n",
    "plt.grid(True, which='both')\n",
    "plt.plot(x_0,t,'o')\n",
    "plt.plot(time, amplitude)"
   ]
  },
  {
   "cell_type": "markdown",
   "metadata": {},
   "source": [
    "We will find the curve using a trinomial (third degree polynomial) and solve it using gradient descent and sum of squares of errors (Residual sum of squares)"
   ]
  },
  {
   "cell_type": "code",
   "execution_count": 1687,
   "metadata": {},
   "outputs": [],
   "source": [
    "def x_matrix_with_n_polyn(x, n_order=3):\n",
    "    if n_order > 0:\n",
    "        new_x = np.ones(x.shape[0])\n",
    "        for i in range(1, n_order+1):\n",
    "            new_x = np.vstack((new_x, x**i))\n",
    "        return new_x\n",
    "    else:\n",
    "        print('The polynomial has to be of order n >= 1')"
   ]
  },
  {
   "cell_type": "code",
   "execution_count": 1688,
   "metadata": {},
   "outputs": [
    {
     "name": "stdout",
     "output_type": "stream",
     "text": [
      "('random weights: ', array([ 0.18789667, -1.8557397 ,  0.53681757, -0.90609429]))\n"
     ]
    }
   ],
   "source": [
    "x = x_matrix_with_n_polyn(x_0, n_order=3)\n",
    "w = np.random.randn(x.shape[0])\n",
    "print('random weights: ', w)\n"
   ]
  },
  {
   "cell_type": "markdown",
   "metadata": {},
   "source": [
    "$y(x,\\mathbf{w})=w_0+w_1x+w_2x^2+w_3x^3 = w^T\\mathbf{x}$"
   ]
  },
  {
   "cell_type": "code",
   "execution_count": 1689,
   "metadata": {},
   "outputs": [
    {
     "name": "stdout",
     "output_type": "stream",
     "text": [
      "('output with random weights: ', array([-0.01094522, -1.08699116, -0.77974992, -0.69912697, -1.44458214,\n",
      "        0.07828911, -1.77058622, -0.75933661, -0.50794047, -0.50794047]))\n"
     ]
    }
   ],
   "source": [
    "y = np.dot(w,x)\n",
    "print('output with random weights: ', y)"
   ]
  },
  {
   "cell_type": "markdown",
   "metadata": {},
   "source": [
    "$E(\\mathbf{w}) = \\frac{1}{2}\\sum_{n=1}^N{(y(x_n,\\mathbf{w})-t_n)^2}$"
   ]
  },
  {
   "cell_type": "code",
   "execution_count": 1690,
   "metadata": {},
   "outputs": [
    {
     "name": "stdout",
     "output_type": "stream",
     "text": [
      "('error with random weights: ', 2.897198885848854)\n"
     ]
    }
   ],
   "source": [
    "E = 0.5*np.sum((y-t)**2)\n",
    "print('error with random weights: ', E)"
   ]
  },
  {
   "cell_type": "markdown",
   "metadata": {},
   "source": [
    "$\\frac{\\nabla E(\\mathbf{w})}{ \\mathbf{w}} = \\sum_{n=1}^N{((y(x_n,\\mathbf{w})-t_n)*x_i)} = \\mathbf{x}(\\mathbf{y-t})$"
   ]
  },
  {
   "cell_type": "code",
   "execution_count": 1691,
   "metadata": {},
   "outputs": [
    {
     "name": "stdout",
     "output_type": "stream",
     "text": [
      "('gradient of weights: ', array([ 0.86420479, -1.51403764,  0.75210629, -0.75146751]))\n"
     ]
    }
   ],
   "source": [
    "y = np.dot(w,x)\n",
    "d_w = np.dot(x,(y-t))\n",
    "w = w -0.1*d_w\n",
    "print('gradient of weights: ', w)"
   ]
  },
  {
   "cell_type": "markdown",
   "metadata": {},
   "source": [
    "$\\mathbf{w} \\leftarrow \\mathbf{w}-\\frac{\\nabla E(\\mathbf{w})}{ \\mathbf{w}}$"
   ]
  },
  {
   "cell_type": "code",
   "execution_count": 1692,
   "metadata": {},
   "outputs": [],
   "source": [
    "class GradientDescentLinearRegression:\n",
    "    def __init__(self, alpha=0.01, iterations=1000):\n",
    "        self.alpha, self.iterations = alpha, iterations\n",
    "\n",
    "    def fit(self, x, t, show_error=False):\n",
    "        #w = np.random.randn(x.shape[0])\n",
    "        w = np.linalg.lstsq(x.T, t)[0] #cheatting: getting weights closer to solution because gradient descent cannot solve this non convex problem\n",
    "        for i in range(self.iterations):\n",
    "            y = np.dot(w,x)\n",
    "            res = (y-t)\n",
    "            d_w = np.dot(x, res)\n",
    "            w = w - self.alpha*d_w\n",
    "            if i%100==0 and show_error:\n",
    "                E = 0.5*np.sum((res)**2)\n",
    "                print('error at iter. {}: {}'.format(i, E))\n",
    "        self.w = w\n",
    "        E = 0.5*np.sum((res)**2)\n",
    "        print('final error: ', E)\n",
    "    def predict(self, x):\n",
    "        return np.dot(self.w, x)\n"
   ]
  },
  {
   "cell_type": "code",
   "execution_count": 1693,
   "metadata": {},
   "outputs": [],
   "source": [
    "linear_reg = GradientDescentLinearRegression()"
   ]
  },
  {
   "cell_type": "code",
   "execution_count": 1694,
   "metadata": {},
   "outputs": [
    {
     "name": "stdout",
     "output_type": "stream",
     "text": [
      "('final error: ', 0.008305812528065231)\n"
     ]
    },
    {
     "name": "stderr",
     "output_type": "stream",
     "text": [
      "/home/hanz/.local/lib/python2.7/site-packages/ipykernel_launcher.py:7: FutureWarning: `rcond` parameter will change to the default of machine precision times ``max(M, N)`` where M and N are the input matrix dimensions.\n",
      "To use the future default and silence this warning we advise to pass `rcond=None`, to keep using the old, explicitly pass `rcond=-1`.\n",
      "  import sys\n"
     ]
    }
   ],
   "source": [
    "# np.random.seed(0)\n",
    "linear_reg.fit(x,t)"
   ]
  },
  {
   "cell_type": "code",
   "execution_count": 1695,
   "metadata": {},
   "outputs": [],
   "source": [
    "y_hat = linear_reg.predict(x)"
   ]
  },
  {
   "cell_type": "code",
   "execution_count": 1696,
   "metadata": {
    "scrolled": true
   },
   "outputs": [
    {
     "data": {
      "text/plain": [
       "[<matplotlib.lines.Line2D at 0x7f990c6c8a10>]"
      ]
     },
     "execution_count": 1696,
     "metadata": {},
     "output_type": "execute_result"
    },
    {
     "data": {
      "image/png": "[encoded data removed]",
      "text/plain": [
       "<Figure size 432x288 with 1 Axes>"
      ]
     },
     "metadata": {
      "needs_background": "light"
     },
     "output_type": "display_data"
    }
   ],
   "source": [
    "plt.xlabel('time')\n",
    "plt.ylabel('amplitude')\n",
    "plt.grid(True, which='both')\n",
    "plt.plot(x_0,t,'o',  color='green')\n",
    "plt.plot(x_0,y_hat,'o', color='red')\n",
    "plt.plot(time, amplitude)"
   ]
  },
  {
   "cell_type": "markdown",
   "metadata": {},
   "source": [
    "You can test and see the polynomials with different n order"
   ]
  },
  {
   "cell_type": "code",
   "execution_count": 1697,
   "metadata": {},
   "outputs": [
    {
     "name": "stdout",
     "output_type": "stream",
     "text": [
      "('final error: ', 0.002411476785168774)\n"
     ]
    },
    {
     "name": "stderr",
     "output_type": "stream",
     "text": [
      "/home/hanz/.local/lib/python2.7/site-packages/ipykernel_launcher.py:7: FutureWarning: `rcond` parameter will change to the default of machine precision times ``max(M, N)`` where M and N are the input matrix dimensions.\n",
      "To use the future default and silence this warning we advise to pass `rcond=None`, to keep using the old, explicitly pass `rcond=-1`.\n",
      "  import sys\n"
     ]
    },
    {
     "data": {
      "text/plain": [
       "[<matplotlib.lines.Line2D at 0x7f990c6a8ed0>]"
      ]
     },
     "execution_count": 1697,
     "metadata": {},
     "output_type": "execute_result"
    },
    {
     "data": {
      "image/png": "[encoded data removed]",
      "text/plain": [
       "<Figure size 432x288 with 1 Axes>"
      ]
     },
     "metadata": {
      "needs_background": "light"
     },
     "output_type": "display_data"
    }
   ],
   "source": [
    "n_order=10\n",
    "x = x_matrix_with_n_polyn(x_0, n_order)\n",
    "linear_reg.fit(x,t)\n",
    "xx = x_matrix_with_n_polyn(time, n_order)\n",
    "yy = linear_reg.predict(xx)\n",
    "plt.xlabel('time')\n",
    "plt.ylabel('amplitude')\n",
    "plt.ylim([-1,1])\n",
    "plt.grid(True, which='both')\n",
    "plt.plot(x_0,t,'o',  color='green')\n",
    "plt.plot(time,yy, color='red')\n",
    "plt.plot(time, amplitude)"
   ]
  }
 ],
 "metadata": {
  "kernelspec": {
   "display_name": "Python 2",
   "language": "python",
   "name": "python2"
  },
  "language_info": {
   "codemirror_mode": {
    "name": "ipython",
    "version": 2
   },
   "file_extension": ".py",
   "mimetype": "text/x-python",
   "name": "python",
   "nbconvert_exporter": "python",
   "pygments_lexer": "ipython2",
   "version": "2.7.15+"
  }
 },
 "nbformat": 4,
 "nbformat_minor": 2
}
